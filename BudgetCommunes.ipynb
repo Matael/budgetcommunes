{
 "metadata": {
  "name": "BudgetCommunes"
 },
 "nbformat": 3,
 "nbformat_minor": 0,
 "worksheets": [
  {
   "cells": [
    {
     "cell_type": "markdown",
     "metadata": {},
     "source": [
      "Budget des Communes\n",
      "===================\n",
      "\n",
      "Sur une id\u00e9e de Fred. R. et Mathieu G. (matael).\n",
      "\n",
      "Sources :\n",
      "\n",
      "- http://alize2.finances.gouv.fr/"
     ]
    },
    {
     "cell_type": "markdown",
     "metadata": {},
     "source": [
      "R\u00e9cup de la liste des communes\n",
      "------------------------------"
     ]
    },
    {
     "cell_type": "code",
     "collapsed": false,
     "input": [
      "from bs4 import BeautifulSoup\n",
      "from requests import get\n",
      "import re\n",
      "\n",
      "URLBASE = 'http://alize2.finances.gouv.fr/communes/eneuro/'\n",
      "\n",
      "#departements = [72]\n",
      "dep = 72\n",
      "#for dep in departements:\n",
      "\n",
      "# r\u00e9cup des lettresdat utilis\u00e9es\n",
      "soup_lettres = BeautifulSoup(get(URLBASE+'RDep.php?type=BPS&dep={0:03d}'.format(dep)).text)\n",
      "lettres = map(\n",
      "    lambda _: _.text,\n",
      "    soup_lettres.find('tr', {\"valign\": \"baseline\"}).findAll('a')\n",
      ")"
     ],
     "language": "python",
     "metadata": {},
     "outputs": [],
     "prompt_number": 1
    },
    {
     "cell_type": "code",
     "collapsed": false,
     "input": [
      "liste_complete = {}\n",
      "\n",
      "for lettre in lettres:\n",
      "\n",
      "    soup_depliste = BeautifulSoup(get(URLBASE+'RDep.php?dep={0:03d}&type=BPS&lettre={1}'.format(dep,lettre)).text)\n",
      "\n",
      "    depliste = {_.text.strip():_.get('href').replace('RComm_gfp', 'tableau') for _ in soup_depliste.findAll('a', {'class' : 'lien'})}\n",
      "\n",
      "    for ville,url_ville in depliste.items():\n",
      "    \n",
      "        ville = re.sub( r'^([^\\(]+)\\(([^\\)]+)\\)', r'\\2 \\1', ville.encode('utf8').replace('\\xc3\\x87','C').replace(' ', ''))\n",
      "        soup_ville = BeautifulSoup(get(URLBASE+url_ville.replace('param=0', 'param=5')).text)\n",
      "        liste_complete[ville] = int(soup_ville.find('tr', {'class': 'dette'}).findAll('td',  {'class': 'montantpetitd'})[1].text.replace(' ',''))\n"
     ],
     "language": "python",
     "metadata": {},
     "outputs": [],
     "prompt_number": 2
    },
    {
     "cell_type": "markdown",
     "metadata": {},
     "source": [
      "## utilisation du fichier des villes de france"
     ]
    },
    {
     "cell_type": "code",
     "collapsed": false,
     "input": [
      "def colorize(dette):\n",
      "    colors = ['#ffffcc',\n",
      "              '#ffeda0',\n",
      "              '#fed976',\n",
      "              '#feb24c',\n",
      "              '#fd8d3c',\n",
      "              '#fc4e2a',\n",
      "              '#e31a1c',\n",
      "              '#b10026'\n",
      "              ]\n",
      "    \n",
      "    if dette <= 50:\n",
      "        return colors[0]\n",
      "    elif dette > 50 and dette <= 100:\n",
      "        return colors[1]\n",
      "    elif dette > 100 and dette <= 250:\n",
      "        return colors[2]\n",
      "    elif dette > 250 and dette <= 500:\n",
      "        return colors[3]\n",
      "    elif dette > 500 and dette <= 750:\n",
      "        return colors[4]\n",
      "    elif dette > 750 and dette <= 1000:\n",
      "        return colors[5]\n",
      "    elif dette > 1000 and dette <= 1500:\n",
      "        return colors[6]\n",
      "    else:\n",
      "        return colors[7]\n",
      "    "
     ],
     "language": "python",
     "metadata": {},
     "outputs": [],
     "prompt_number": 16
    },
    {
     "cell_type": "code",
     "collapsed": false,
     "input": [
      "import pandas as pd\n",
      "\n",
      "villes_france = pd.read_csv('villes_france.csv')\n",
      "\n",
      "villes_dep = villes_france[villes_france.ville_nom.isin(liste_complete.keys()) & (villes_france.ville_departement == dep)]\n",
      "\n",
      "villes = villes_dep[['ville_nom', 'ville_longitude_deg', 'ville_latitude_deg']].sort(['ville_nom']).set_index('ville_nom')\n",
      "\n",
      "df_liste_complete = pd.DataFrame().from_dict(liste_complete, orient='index')\n",
      "villes['dette'] = df_liste_complete[0]\n",
      "\n",
      "geolist = []\n",
      "for v in villes.itertuples():\n",
      "    geolist.append({\n",
      "        \"type\": \"Feature\",\n",
      "        \"geometry\": {\n",
      "            \"type\": \"Point\",\n",
      "            \"coordinates\": [v[1], v[2]]\n",
      "        },\n",
      "        \"properties\": {\n",
      "            \"name\": v[0],\n",
      "            \"dette\": str(v[3])+ \"euros/hab au 31/12/2012\",\n",
      "            \"_storage_options\" : {\"color\": colorize(v[3])}\n",
      "        }\n",
      "    })\n",
      "\n",
      "import json\n",
      "\n",
      "outfile = \"{dep}.json\".format(dep=dep)\n",
      "with open(outfile, 'w') as f:\n",
      "    f.write(json.dumps(geolist))"
     ],
     "language": "python",
     "metadata": {},
     "outputs": [
      {
       "ename": "NameError",
       "evalue": "name 'liste_complete' is not defined",
       "output_type": "pyerr",
       "traceback": [
        "\u001b[0;31m---------------------------------------------------------------------------\u001b[0m\n\u001b[0;31mNameError\u001b[0m                                 Traceback (most recent call last)",
        "\u001b[0;32m<ipython-input-15-8b69d4763505>\u001b[0m in \u001b[0;36m<module>\u001b[0;34m()\u001b[0m\n\u001b[1;32m      3\u001b[0m \u001b[0mvilles_france\u001b[0m \u001b[0;34m=\u001b[0m \u001b[0mpd\u001b[0m\u001b[0;34m.\u001b[0m\u001b[0mread_csv\u001b[0m\u001b[0;34m(\u001b[0m\u001b[0;34m'villes_france.csv'\u001b[0m\u001b[0;34m)\u001b[0m\u001b[0;34m\u001b[0m\u001b[0m\n\u001b[1;32m      4\u001b[0m \u001b[0;34m\u001b[0m\u001b[0m\n\u001b[0;32m----> 5\u001b[0;31m \u001b[0mvilles_dep\u001b[0m \u001b[0;34m=\u001b[0m \u001b[0mvilles_france\u001b[0m\u001b[0;34m[\u001b[0m\u001b[0mvilles_france\u001b[0m\u001b[0;34m.\u001b[0m\u001b[0mville_nom\u001b[0m\u001b[0;34m.\u001b[0m\u001b[0misin\u001b[0m\u001b[0;34m(\u001b[0m\u001b[0mliste_complete\u001b[0m\u001b[0;34m.\u001b[0m\u001b[0mkeys\u001b[0m\u001b[0;34m(\u001b[0m\u001b[0;34m)\u001b[0m\u001b[0;34m)\u001b[0m \u001b[0;34m&\u001b[0m \u001b[0;34m(\u001b[0m\u001b[0mvilles_france\u001b[0m\u001b[0;34m.\u001b[0m\u001b[0mville_departement\u001b[0m \u001b[0;34m==\u001b[0m \u001b[0mdep\u001b[0m\u001b[0;34m)\u001b[0m\u001b[0;34m]\u001b[0m\u001b[0;34m\u001b[0m\u001b[0m\n\u001b[0m\u001b[1;32m      6\u001b[0m \u001b[0;34m\u001b[0m\u001b[0m\n\u001b[1;32m      7\u001b[0m \u001b[0mvilles\u001b[0m \u001b[0;34m=\u001b[0m \u001b[0mvilles_dep\u001b[0m\u001b[0;34m[\u001b[0m\u001b[0;34m[\u001b[0m\u001b[0;34m'ville_nom'\u001b[0m\u001b[0;34m,\u001b[0m \u001b[0;34m'ville_longitude_deg'\u001b[0m\u001b[0;34m,\u001b[0m \u001b[0;34m'ville_latitude_deg'\u001b[0m\u001b[0;34m]\u001b[0m\u001b[0;34m]\u001b[0m\u001b[0;34m.\u001b[0m\u001b[0msort\u001b[0m\u001b[0;34m(\u001b[0m\u001b[0;34m[\u001b[0m\u001b[0;34m'ville_nom'\u001b[0m\u001b[0;34m]\u001b[0m\u001b[0;34m)\u001b[0m\u001b[0;34m.\u001b[0m\u001b[0mset_index\u001b[0m\u001b[0;34m(\u001b[0m\u001b[0;34m'ville_nom'\u001b[0m\u001b[0;34m)\u001b[0m\u001b[0;34m\u001b[0m\u001b[0m\n",
        "\u001b[0;31mNameError\u001b[0m: name 'liste_complete' is not defined"
       ]
      },
      {
       "output_type": "stream",
       "stream": "stderr",
       "text": [
        "/usr/local/lib/python2.7/dist-packages/pandas/io/parsers.py:1070: DtypeWarning: Columns (1,9) have mixed types. Specify dtype option on import or set low_memory=False.\n",
        "  data = self._reader.read(nrows)\n"
       ]
      }
     ],
     "prompt_number": 15
    },
    {
     "cell_type": "markdown",
     "metadata": {},
     "source": [
      "Version avec Json files\n",
      "======================="
     ]
    },
    {
     "cell_type": "code",
     "collapsed": false,
     "input": [
      "import json\n",
      "with open('scripts/72_data.json') as f:\n",
      "    debts = json.load(f)\n",
      "    mapper = dict((_,_.replace('OEU','U')) for _ in debts.keys())\n",
      "    debts = dict((mapper[k],v) for k,v in debts.items())\n",
      "with open('72_pydict.json') as f:\n",
      "    polys = json.load(f)\n",
      "# on cr\u00e9e un objet GeoJSON vide\n",
      "geolist = {\"type\": \"FeatureCollection\", \"features\": []}\n",
      "\n",
      "for s in debts.keys():\n",
      "    try :\n",
      "        new_feature = {\n",
      "            'type': 'Feature',\n",
      "            'geometry': {\n",
      "                'type': 'Polygon',\n",
      "                'coordinates': polys[s][1]\n",
      "            },\n",
      "            'properties': {\n",
      "                '_storage_options': {\n",
      "                    'color': colorize(debts[s])\n",
      "                },\n",
      "                'name': polys[s][0]\n",
      "            }\n",
      "        }\n",
      "        \n",
      "    except KeyError:\n",
      "        try:\n",
      "            key = s.split('-')[0] \n",
      "            new_feature = {\n",
      "                'type': 'Feature',\n",
      "                'geometry': {\n",
      "                    'type': 'Polygon',\n",
      "                    'coordinates': polys[key][1]\n",
      "                },\n",
      "                'properties': {\n",
      "                    '_storage_options': {\n",
      "                        'color': colorize(debts[s])\n",
      "                    },\n",
      "                    'name': polys[key][0]\n",
      "                }\n",
      "            }\n",
      "        except:\n",
      "            print('Problem with {}'.format(s))\n",
      "\n",
      "    geolist['features'].append(new_feature)\n",
      "\n",
      "with open('72_final.json', 'w') as f: f.write(json.dumps(geolist))"
     ],
     "language": "python",
     "metadata": {},
     "outputs": [],
     "prompt_number": 20
    },
    {
     "cell_type": "code",
     "collapsed": false,
     "input": [],
     "language": "python",
     "metadata": {},
     "outputs": []
    }
   ],
   "metadata": {}
  }
 ]
}