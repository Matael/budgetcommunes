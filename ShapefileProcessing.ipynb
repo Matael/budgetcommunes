{
 "metadata": {
  "name": "ShapefileProcessing"
 },
 "nbformat": 3,
 "nbformat_minor": 0,
 "worksheets": [
  {
   "cells": [
    {
     "cell_type": "markdown",
     "metadata": {},
     "source": [
      "Shapefile Processing\n",
      "====================\n",
      "\n",
      "OSM fourni un d\u00e9pot de .shp avec les contours administratifs des communes ( http://export.openstreetmap.fr/contours-administratifs/communes/ ).\n",
      "\n",
      "L'objectif est de transformer ce fichier en json sans perdre le nom de la commune (fichier .dbf )"
     ]
    },
    {
     "cell_type": "code",
     "collapsed": false,
     "input": [
      "import shapefile as sf\n",
      "\n",
      "import codecs"
     ],
     "language": "python",
     "metadata": {},
     "outputs": [],
     "prompt_number": 2
    },
    {
     "cell_type": "code",
     "collapsed": false,
     "input": [
      "#fh_shp = codecs.open('72-Sarthe.shp', 'rb', encoding='utf8')\n",
      "#fh_dbf = codecs.open('72-Sarthe.dbf', 'rb', encoding='utf8')\n",
      "#sarthe_shp = sf.Reader(shp=fh_shp, dbf=fh_dbf)\n",
      "sarthe_shp = sf.Reader('72-Sarthe.shp')"
     ],
     "language": "python",
     "metadata": {},
     "outputs": [],
     "prompt_number": 89
    },
    {
     "cell_type": "code",
     "collapsed": false,
     "input": [
      "a = sarthe_shp.shapes()[0]"
     ],
     "language": "python",
     "metadata": {},
     "outputs": [],
     "prompt_number": 90
    },
    {
     "cell_type": "code",
     "collapsed": false,
     "input": [
      "out = [{\n",
      "    'type':\"Feature\",\n",
      "    'geometry':{\n",
      "        'type':\"Polygon\",\n",
      "        'coordinates':[map(lambda point: map(lambda _: str(_), point), a.points)]\n",
      "    }\n",
      "}]"
     ],
     "language": "python",
     "metadata": {},
     "outputs": [],
     "prompt_number": 91
    },
    {
     "cell_type": "code",
     "collapsed": false,
     "input": [
      "import unicodedata\n",
      "import string\n",
      "\n",
      "out = []\n",
      "shapes = sarthe_shp.iterShapes()\n",
      "records = sarthe_shp.iterRecords()\n",
      "\n",
      "def remove_accents(data):\n",
      "    return ''.join(x for x in unicodedata.normalize('NFKD', data.decode('utf8')) if x in string.ascii_letters+\"- '\").upper()\n",
      "\n",
      "python_dict = {}\n",
      "for r in records:\n",
      "    s = shapes.next()\n",
      "    \n",
      "    name = remove_accents(r[0])\n",
      "    coords = [map(lambda point: map(lambda _: str(_), point), s.points)]\n",
      "    \n",
      "    out.append({\n",
      "        'type':\"Feature\",\n",
      "        'geometry':{\n",
      "            'type':\"Polygon\",\n",
      "            'coordinates': coords\n",
      "        },\n",
      "        'properties':{\n",
      "            'name': name\n",
      "        }\n",
      "    })\n",
      "    python_dict[name] =  (r[0], coords)"
     ],
     "language": "python",
     "metadata": {},
     "outputs": [],
     "prompt_number": 117
    },
    {
     "cell_type": "code",
     "collapsed": false,
     "input": [
      "with open('72_polygons.geojson', 'w') as f: f.write(json.dumps(out))\n",
      "with open('72_pydict.json', 'w') as f: f.write(json.dumps(python_dict))"
     ],
     "language": "python",
     "metadata": {},
     "outputs": [],
     "prompt_number": 118
    },
    {
     "cell_type": "code",
     "collapsed": false,
     "input": [],
     "language": "python",
     "metadata": {},
     "outputs": []
    }
   ],
   "metadata": {}
  }
 ]
}